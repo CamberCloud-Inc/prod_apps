{
 "cells": [
  {
   "cell_type": "markdown",
   "metadata": {},
   "source": [
    "RNA sequencing (RNA-seq) is a key technique in modern biology, used to quantify gene expression, detect alternative splicing, and understand transcriptional changes under different conditions—whether in development, disease, or response to treatment. This notebook demonstrates a full RNA-seq analysis workflow powered by [Nextflow](https://www.nextflow.io/) and the [nf-core/rnaseq pipeline](https://nf-co.re/rnaseq/), showcasing how Camber simplifies and scales reproducible cloud-based analysis."
   ]
  },
  {
   "cell_type": "markdown",
   "metadata": {},
   "source": [
    "The first step is to import the nextflow package:"
   ]
  },
  {
   "cell_type": "code",
   "execution_count": 1,
   "metadata": {},
   "outputs": [],
   "source": [
    "from camber import nextflow"
   ]
  },
  {
   "cell_type": "markdown",
   "metadata": {},
   "source": [
    "\n",
    "Here's an example of how to setup configurations and execute a job:\n",
    "- `pipeline=\"nf-core/rnaseq\"`: specify pipeline to run.\n",
    "- `engine_size=\"MICRO\"`: indicate [engine size](https://docs.cambercloud.com/docs/engines-pricing/#cpu-engine-sizes) to perform the job.\n",
    "- `num_engines=4`: indicate number of engines to run workflow tasks in parallel.\n",
    "\n",
    "[Pipeline parameters](https://nf-co.re/rnaseq/3.18.0/parameters/) must be defined in `params` argument. To ensure the pipeline works as expected, please take note that:\n",
    "- `\"--input\": \"./samplesheet.csv\"`: the relative path of `samplesheet.csv` file to the current notebook. In case of using local FastQ files, the locations of them in `samplesheet.csv` file content are relative also.\n",
    "- `\"--outdir\": \"/camber_outputs\"`: the location stores output data of the job."
   ]
  },
  {
   "cell_type": "code",
   "execution_count": null,
   "metadata": {},
   "outputs": [],
   "source": [
    "nf_rnaseq_job = nextflow.create_job(\n",
    "    pipeline=\"nf-core/rnaseq\",\n",
    "    engine_size=\"MICRO\",\n",
    "    num_engines=4,\n",
    "    params={\n",
    "        \"--input\": \"./samplesheet.csv\",\n",
    "        \"--outdir\": \"/camber_outputs\",\n",
    "        \"-r\": \"3.18.0\",\n",
    "        \"--fasta\": \"stash://public/fastq/rnaseq/ITAG2.3_genomic_Ch6.fasta\",\n",
    "        \"--gtf\": \"stash://public/fastq/rnaseq/ITAG_pre2.3_gene_models_Ch6.gtf\",\n",
    "        \"--aligner\": \"star_rsem\",\n",
    "        \"--skip_biotype_qc\": \"true\",\n",
    "    },\n",
    ")"
   ]
  },
  {
   "cell_type": "markdown",
   "metadata": {},
   "source": [
    "\n",
    "This step is to check [job status](https://docs.cambercloud.com/docs/reference/job-attributes/#status):"
   ]
  },
  {
   "cell_type": "code",
   "execution_count": null,
   "metadata": {},
   "outputs": [],
   "source": [
    "nf_rnaseq_job.status"
   ]
  },
  {
   "cell_type": "markdown",
   "metadata": {},
   "source": [
    "\n",
    "View job logs online:"
   ]
  },
  {
   "cell_type": "code",
   "execution_count": null,
   "metadata": {},
   "outputs": [],
   "source": [
    "nf_rnaseq_job.read_logs()"
   ]
  },
  {
   "cell_type": "markdown",
   "metadata": {},
   "source": [
    "\n",
    "When the job is done, you can discover and download the results and logs of the job by two ways:\n",
    "\n",
    "1. Browser data directly in notebook environment:\n",
    "<p style=\"text-align:left;\"><img src=\"https://raw.githubusercontent.com/CamberCloud-Inc/demos/refs/heads/main/30-applications/02-genomics/rnaseq/images/notebook_rnaseq_outputs.png\" alt=\"image\" width=\"50%\" /></p>\n",
    "\n",
    "2. Go to the Stash UI:\n",
    "<p style=\"text-align:left;\"><img src=\"https://raw.githubusercontent.com/CamberCloud-Inc/demos/refs/heads/main/30-applications/02-genomics/rnaseq/images/stash_ui_rnaseq_outputs.png\" alt=\"image\" width=\"100%\" /></p>"
   ]
  },
  {
   "cell_type": "markdown",
   "metadata": {},
   "source": [
    "By running this RNA-seq pipeline on Camber, you’ve leveraged a reproducible, cloud-optimized workflow with minimal infrastructure overhead. This approach streamlines large-scale data analysis and sets the stage for scalable genomics research using community standards and modern tools."
   ]
  }
 ],
 "metadata": {
  "kernelspec": {
   "display_name": "CamberPy",
   "language": "python",
   "name": "python3"
  },
  "language_info": {
   "codemirror_mode": {
    "name": "ipython",
    "version": 3
   },
   "file_extension": ".py",
   "mimetype": "text/x-python",
   "name": "python",
   "nbconvert_exporter": "python",
   "pygments_lexer": "ipython3",
   "version": "3.12.7"
  }
 },
 "nbformat": 4,
 "nbformat_minor": 4
}
