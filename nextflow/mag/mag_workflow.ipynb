{
 "cells": [
  {
   "cell_type": "markdown",
   "metadata": {},
   "source": [
    "Metagenomic analysis enables the study of microbial communities, providing insights into their diversity and roles in various environments. The [nf-core/mag](https://nf-co.re/mag/latest/) pipeline offers a powerful, reproducible approach to metagenomic assembly and profiling. By using the [Nextflow Engine](https://docs.cambercloud.com/docs/reference/python-api/nextflow/) on Camber, researchers can easily run and manage complex workflows, ensuring efficient analysis and scalability.\n"
   ]
  },
  {
   "cell_type": "markdown",
   "metadata": {},
   "source": [
    "The first step is to import the nextflow package:"
   ]
  },
  {
   "cell_type": "code",
   "execution_count": 1,
   "metadata": {},
   "outputs": [],
   "source": [
    "from camber import nextflow"
   ]
  },
  {
   "cell_type": "markdown",
   "metadata": {},
   "source": [
    "\n",
    "Here's an example of how to setup configurations and execute a job:\n",
    "- `pipeline=\"nf-core/mag\"`: specify pipeline to run.\n",
    "- `engine_size=\"XXSMALL\"`: indicate [engine size](https://docs.cambercloud.com/docs/engines-pricing/#cpu-engine-sizes) to perform the job.\n",
    "- `num_engines=8`: indicate number of engines to run workflow tasks in parallel.\n",
    "\n",
    "[Pipeline parameters](https://nf-co.re/mag/3.4.0/parameters/) must be defined in `params` argument. To ensure the pipeline works as expected, please take note that:\n",
    "- `\"--input\": \"./samplesheet.csv\"`: the relative path of `samplesheet.csv` file to the current notebook. In case of using local FastQ files, the locations of them in `samplesheet.csv` file content are relative also.\n",
    "- `\"--outdir\": \"/camber_outputs\"`: the location stores output data of the job."
   ]
  },
  {
   "cell_type": "code",
   "execution_count": 3,
   "metadata": {},
   "outputs": [],
   "source": [
    "# Declare URLs to download necessary files\n",
    "kraken2_db = \"https://raw.githubusercontent.com/nf-core/test-datasets/mag/test_data/minigut_kraken.tgz\"\n",
    "centrifuge_db = \"https://raw.githubusercontent.com/nf-core/test-datasets/mag/test_data/minigut_cf.tar.gz\"\n",
    "busco_db = \"https://busco-data.ezlab.org/v5/data/lineages/bacteria_odb10.2024-01-08.tar.gz\"\n",
    "gtdb_db = \"https://data.ace.uq.edu.au/public/gtdb/data/releases/release220/220.0/auxillary_files/gtdbtk_package/full_package/gtdbtk_r220_data.tar.gz\""
   ]
  },
  {
   "cell_type": "code",
   "execution_count": null,
   "metadata": {},
   "outputs": [],
   "source": [
    "nf_mag_job = nextflow.create_job(\n",
    "    pipeline=\"nf-core/mag\",\n",
    "    engine_size=\"XXSMALL\",\n",
    "    num_engines=8,\n",
    "    params={\n",
    "        \"--input\": \"samplesheet.csv\",\n",
    "        \"--outdir\": \"/camber_outputs\",\n",
    "        \"-r\": \"3.4.0\",\n",
    "        \"--kraken2_db\": kraken2_db,\n",
    "        \"--centrifuge_db\": centrifuge_db,\n",
    "        \"--busco_db\": busco_db,\n",
    "        \"--gtdb_db\": gtdb_db,\n",
    "        \"--skip_krona\": \"true\",\n",
    "        \"--skip_gtdbtk\": \"true\",\n",
    "        \"--skip_maxbin2\": \"true\",\n",
    "    },\n",
    ")"
   ]
  },
  {
   "cell_type": "markdown",
   "metadata": {},
   "source": [
    "\n",
    "This step is to check [job status](https://docs.cambercloud.com/docs/reference/job-attributes/#status):"
   ]
  },
  {
   "cell_type": "code",
   "execution_count": null,
   "metadata": {},
   "outputs": [],
   "source": [
    "nf_mag_job.status"
   ]
  },
  {
   "cell_type": "markdown",
   "metadata": {},
   "source": [
    "\n",
    "To monitor job exectution, you can show job logs in real-time by `read_logs` method:"
   ]
  },
  {
   "cell_type": "code",
   "execution_count": null,
   "metadata": {},
   "outputs": [],
   "source": [
    "nf_mag_job.read_logs()"
   ]
  },
  {
   "cell_type": "markdown",
   "metadata": {},
   "source": [
    "\n",
    "When the job is done, you can discover and download the results and logs of the job by two ways:\n",
    "\n",
    "1. Browser data directly in notebook environment:\n",
    "<p style=\"text-align:left;\"><img src=\"https://raw.githubusercontent.com/CamberCloud-Inc/demos/refs/heads/main/30-applications/02-genomics/mag/images/notebook_mag_outputs.png\" alt=\"image\" width=\"50%\" /></p>\n",
    "\n",
    "2. Go to the Stash UI:\n",
    "<p style=\"text-align:left;\"><img src=\"https://raw.githubusercontent.com/CamberCloud-Inc/demos/refs/heads/main/30-applications/02-genomics/mag/images/stash_ui_nf_mag_outputs.png\" alt=\"image\" width=\"100%\" /></p>"
   ]
  },
  {
   "cell_type": "markdown",
   "metadata": {},
   "source": [
    "This tutorial demonstrates how Camber simplifies running the `nf-core/mag` pipeline. You can try it with your own metagenomic data, easily setting up the pipeline, monitoring job status, and retrieving results. With Camber’s cloud infrastructure, you can scale your analysis effortlessly and focus on deriving insights from your data."
   ]
  }
 ],
 "metadata": {
  "kernelspec": {
   "display_name": "CamberPy",
   "language": "python",
   "name": "python3"
  },
  "language_info": {
   "codemirror_mode": {
    "name": "ipython",
    "version": 3
   },
   "file_extension": ".py",
   "mimetype": "text/x-python",
   "name": "python",
   "nbconvert_exporter": "python",
   "pygments_lexer": "ipython3",
   "version": "3.12.7"
  }
 },
 "nbformat": 4,
 "nbformat_minor": 4
}
