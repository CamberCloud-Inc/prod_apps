{
 "cells": [
  {
   "cell_type": "markdown",
   "id": "5e7306c7",
   "metadata": {},
   "source": [
    "# GROMACS Molecular Dynamics Simulation\n",
    "\n",
    "This tutorial demonstrates how to run a [GROMACS](https://www.gromacs.org/) (GROningen MAchine for Chemical Simulations) molecular dynamics simulation using Camber. GROMACS is one of the most widely used molecular dynamics packages, particularly popular for studying biomolecular systems like proteins, lipids, and nucleic acids.\n",
    "\n",
    "In this example, we'll simulate a protein in electrolyte solution using a comprehensive workflow that includes:\n",
    "- Energy minimization to remove bad contacts\n",
    "- NVT equilibration to establish proper temperature\n",
    "- Interactive visualization of the simulation trajectory"
   ]
  },
  {
   "cell_type": "markdown",
   "id": "2d9c9795",
   "metadata": {},
   "source": [
    "\n",
    "## Import Camber Package\n",
    "\n",
    "First, we import the Camber package which provides the interface for running GROMACS simulations on the cloud platform:"
   ]
  },
  {
   "cell_type": "code",
   "execution_count": null,
   "id": "22cd0e10",
   "metadata": {},
   "outputs": [],
   "source": [
    "import camber"
   ]
  },
  {
   "cell_type": "markdown",
   "id": "49c82061",
   "metadata": {},
   "source": [
    "\n",
    "## Configure and Submit GROMACS Job\n",
    "\n",
    "Here we configure and submit a GROMACS molecular dynamics job:\n",
    "\n",
    "- `command=\"sh ./sim.sh\"`: Executes the simulation script that runs the complete GROMACS workflow\n",
    "- `engine_size=\"XSMALL\"`: Indicates the [engine size](https://docs.cambercloud.com/docs/engines-pricing/#cpu-engine-sizes) for the simulation\n",
    "- `with_gpu=True`: Enables GPU acceleration for faster molecular dynamics calculations\n",
    "\n",
    "The simulation uses these input files:\n",
    "- `sim.sh`: Shell script orchestrating the complete GROMACS workflow\n",
    "- `1cta.pdb`: Initial protein structure (Protein Data Bank format)\n",
    "- `topol.top`: Molecular topology file defining atoms, bonds, and force field parameters\n",
    "- `inputs/`: Directory containing molecular dynamics parameter files:\n",
    "  - `minimize.mdp`: Energy minimization parameters\n",
    "  - `nvt.mdp`: NVT (constant volume/temperature) equilibration parameters\n",
    "  - `npt.mdp`: NPT (constant pressure/temperature) production parameters"
   ]
  },
  {
   "cell_type": "code",
   "execution_count": null,
   "id": "dc30b0b4",
   "metadata": {},
   "outputs": [],
   "source": [
    "gmx_job = camber.gromacs.create_job(\n",
    "    command=\"sh ./sim.sh\",\n",
    "    engine_size=\"XSMALL\",\n",
    "    with_gpu=True\n",
    ")"
   ]
  },
  {
   "cell_type": "markdown",
   "id": "8b2a3093",
   "metadata": {},
   "source": [
    "\n",
    "## Check Job Status\n",
    "\n",
    "Monitor the [job status](https://docs.cambercloud.com/docs/reference/job-attributes/#status) to track the simulation progress through the multi-step GROMACS workflow:"
   ]
  },
  {
   "cell_type": "code",
   "execution_count": null,
   "id": "b240e65b",
   "metadata": {},
   "outputs": [],
   "source": [
    "gmx_job.status"
   ]
  },
  {
   "cell_type": "markdown",
   "id": "30ee08fc",
   "metadata": {},
   "source": [
    "\n",
    "## Monitor Job Execution\n",
    "\n",
    "To monitor job execution in real-time, use the `read_logs()` method to view the GROMACS output, including energy minimization progress, equilibration statistics, and production run details:"
   ]
  },
  {
   "cell_type": "code",
   "execution_count": null,
   "id": "0d03c9fe",
   "metadata": {},
   "outputs": [],
   "source": [
    "gmx_job.read_logs()"
   ]
  },
  {
   "cell_type": "markdown",
   "id": "90c832c0",
   "metadata": {},
   "source": [
    "\n",
    "## Analyze and Visualize Trajectory\n",
    "\n",
    "Once the GROMACS simulation is complete, we can analyze and visualize the molecular dynamics trajectory. This section:\n",
    "\n",
    "1. **Loads the trajectory**: Uses MDAnalysis to read the GROMACS trajectory files:\n",
    "   - `min-s.tpr`: Processed structure file containing topology and coordinates\n",
    "   - `nvt_nopbc.xtc`: Trajectory file with periodic boundary conditions removed\n",
    "\n",
    "2. **Creates interactive visualization**: Uses NGLView to display the protein structure with:\n",
    "   - `cartoon` representation for the protein backbone\n",
    "   - `licorice` representation for solvent molecules (SOL)\n",
    "   - Adjustable frame stepping for smooth playback\n",
    "\n",
    "3. **Adds playback controls**: Provides a play widget with customizable speed for exploring the protein dynamics over time\n",
    "\n",
    "The visualization shows how the protein structure evolves during the molecular dynamics simulation, including conformational changes and solvent interactions:"
   ]
  },
  {
   "cell_type": "code",
   "execution_count": null,
   "id": "1ecc83f5",
   "metadata": {},
   "outputs": [],
   "source": [
    "import os\n",
    "import MDAnalysis as mda\n",
    "import nglview as nv\n",
    "import ipywidgets as widgets\n",
    "from IPython.display import display\n",
    "\n",
    "# 1) load your PBC-corrected trajectory\n",
    "base_path = os.getcwd()\n",
    "u = mda.Universe(\n",
    "    os.path.join(base_path, \"output/min-s.tpr\"),\n",
    "    os.path.join(base_path, \"output/nvt_nopbc.xtc\")\n",
    ")\n",
    "view = nv.show_mdanalysis(u, step=10)\n",
    "\n",
    "view.clear_representations()\n",
    "view.add_representation('cartoon', selection='protein')\n",
    "view.add_representation('licorice', selection='resname SOL', radius=0.1)\n",
    "\n",
    "# 2) make a Play widget to drive `view.frame`\n",
    "play = widgets.Play(\n",
    "    value=0,\n",
    "    min=0,\n",
    "    max=view.max_frame,\n",
    "    step=1,\n",
    "    interval=10,      # ms between frames; lower = faster\n",
    "    description=\"▶️\",\n",
    "    continuous_update=True\n",
    ")\n",
    "\n",
    "# 3) link play.value → view.frame\n",
    "widgets.jslink((play, 'value'), (view, 'frame'))\n",
    "\n",
    "# 4) display controls + viewer\n",
    "display(widgets.HBox([play]))\n",
    "view"
   ]
  }
 ],
 "metadata": {
  "kernelspec": {
   "display_name": "CamberPy",
   "language": "python",
   "name": "python3"
  },
  "language_info": {
   "codemirror_mode": {
    "name": "ipython",
    "version": 3
   },
   "file_extension": ".py",
   "mimetype": "text/x-python",
   "name": "python",
   "nbconvert_exporter": "python",
   "pygments_lexer": "ipython3",
   "version": "3.12.7"
  }
 },
 "nbformat": 4,
 "nbformat_minor": 5
}
