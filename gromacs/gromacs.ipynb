{
 "cells": [
  {
   "cell_type": "markdown",
   "id": "5e7306c7",
   "metadata": {},
   "source": "# GROMACS Molecular Dynamics Visualization\n\nThis notebook creates interactive visualization of the completed GROMACS protein MD simulation."
  },
  {
   "cell_type": "markdown",
   "id": "2d9c9795",
   "metadata": {},
   "source": "## Install Dependencies\n\nInstall required packages for trajectory visualization:"
  },
  {
   "cell_type": "code",
   "execution_count": null,
   "id": "22cd0e10",
   "metadata": {},
   "outputs": [],
   "source": "# Install required packages\nimport subprocess\nimport sys\n\ndef install(package):\n    subprocess.check_call([sys.executable, \"-m\", \"pip\", \"install\", package])\n\ntry:\n    import MDAnalysis as mda\n    import nglview as nv\nexcept ImportError:\n    install('MDAnalysis')\n    install('nglview')\n    import MDAnalysis as mda\n    import nglview as nv\n\nimport os\nimport ipywidgets as widgets\nfrom IPython.display import display"
  },
  {
   "cell_type": "markdown",
   "id": "49c82061",
   "metadata": {},
   "source": "## Load Trajectory\n\nLoad the GROMACS NPT trajectory for visualization:"
  },
  {
   "cell_type": "code",
   "execution_count": null,
   "id": "dc30b0b4",
   "metadata": {},
   "outputs": [],
   "source": "# Load GROMACS trajectory\nbase_path = os.getcwd()\n\n# Load the final NPT trajectory\nu = mda.Universe(\n    os.path.join(base_path, \"output/npt.tpr\"),\n    os.path.join(base_path, \"output/npt_nopbc.xtc\")\n)\n\nprint(f\"Loaded trajectory with {len(u.trajectory)} frames\")\nprint(f\"System contains {u.atoms.n_atoms} atoms\")\nprint(f\"Protein atoms: {u.select_atoms('protein').n_atoms}\")\nprint(f\"Water molecules: {u.select_atoms('resname SOL').n_residues}\")"
  },
  {
   "cell_type": "markdown",
   "id": "8b2a3093",
   "metadata": {},
   "source": "## Create Interactive Visualization\n\nGenerate 3D molecular visualization with playback controls:"
  },
  {
   "cell_type": "code",
   "execution_count": null,
   "id": "b240e65b",
   "metadata": {},
   "outputs": [],
   "source": "# Create interactive 3D visualization\nview = nv.show_mdanalysis(u, step=5)  # Show every 5th frame for performance\n\n# Clear default representations\nview.clear_representations()\n\n# Add protein cartoon representation\nview.add_representation('cartoon', selection='protein', color='secondary_structure')\n\n# Add water as small spheres (limited for performance)\nview.add_representation('ball+stick', selection='resname SOL and around 8 protein', radius=0.1)\n\n# Add ions if present\ntry:\n    if u.select_atoms('resname NA+ or resname CL-').n_atoms > 0:\n        view.add_representation('spacefill', selection='resname NA+ or resname CL-', radius=0.3)\nexcept:\n    pass\n\n# Add playback controls\nplay = widgets.Play(\n    value=0,\n    min=0,\n    max=view.max_frame,\n    step=1,\n    interval=100,  # ms between frames\n    description=\"▶️\",\n    continuous_update=True\n)\n\n# Link play widget to view\nwidgets.jslink((play, 'value'), (view, 'frame'))\n\n# Display controls and view\ndisplay(widgets.HBox([play]))\nprint(\"Use the play button to animate the molecular dynamics trajectory\")\nview"
  }
 ],
 "metadata": {
  "kernelspec": {
   "display_name": "CamberPy",
   "language": "python",
   "name": "python3"
  },
  "language_info": {
   "codemirror_mode": {
    "name": "ipython",
    "version": 3
   },
   "file_extension": ".py",
   "mimetype": "text/x-python",
   "name": "python",
   "nbconvert_exporter": "python",
   "pygments_lexer": "ipython3",
   "version": "3.12.7"
  }
 },
 "nbformat": 4,
 "nbformat_minor": 5
}