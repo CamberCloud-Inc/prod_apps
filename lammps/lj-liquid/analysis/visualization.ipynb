{
 "cells": [
  {
   "cell_type": "markdown",
   "id": "header",
   "metadata": {},
   "source": [
    "# Lennard-Jones Liquid Analysis and Visualization\n",
    "\n",
    "This notebook provides tools for analyzing and visualizing the results of LJ liquid simulations."
   ]
  },
  {
   "cell_type": "code",
   "execution_count": null,
   "id": "install-deps",
   "metadata": {},
   "outputs": [],
   "source": [
    "# Install required packages\n",
    "import subprocess\n",
    "import sys\n",
    "\n",
    "packages = ['matplotlib', 'numpy', 'pandas', 'scipy']\n",
    "for package in packages:\n",
    "    subprocess.check_call([sys.executable, '-m', 'pip', 'install', '-q', package])\n",
    "\n",
    "print(\"All dependencies installed successfully!\")"
   ]
  },
  {
   "cell_type": "code",
   "execution_count": null,
   "id": "imports",
   "metadata": {},
   "outputs": [],
   "source": [
    "import numpy as np\n",
    "import pandas as pd\n",
    "import matplotlib.pyplot as plt\n",
    "from matplotlib.gridspec import GridSpec\n",
    "import os\n",
    "\n",
    "# Set plot style\n",
    "plt.style.use('seaborn-v0_8-darkgrid')\n",
    "plt.rcParams['figure.figsize'] = (12, 8)\n",
    "plt.rcParams['font.size'] = 10"
   ]
  },
  {
   "cell_type": "markdown",
   "id": "load-header",
   "metadata": {},
   "source": [
    "## Load Simulation Data"
   ]
  },
  {
   "cell_type": "code",
   "execution_count": null,
   "id": "load-data",
   "metadata": {},
   "outputs": [],
   "source": [
    "# Load thermodynamic data\n",
    "output_dir = '../output'\n",
    "\n",
    "# Check if files exist\n",
    "files_exist = {\n",
    "    'energy': os.path.exists(f'{output_dir}/energy.csv'),\n",
    "    'pressure': os.path.exists(f'{output_dir}/pressure.csv'),\n",
    "    'temperature': os.path.exists(f'{output_dir}/temperature.csv')\n",
    "}\n",
    "\n",
    "print(\"Available data files:\")\n",
    "for name, exists in files_exist.items():\n",
    "    print(f\"  {name}.csv: {'✓' if exists else '✗'}\")\n",
    "\n",
    "# Load data\n",
    "if files_exist['energy']:\n",
    "    energy_data = pd.read_csv(f'{output_dir}/energy.csv')\n",
    "    print(f\"\\nEnergy data: {len(energy_data)} rows\")\n",
    "    print(energy_data.head())\n",
    "\n",
    "if files_exist['pressure']:\n",
    "    pressure_data = pd.read_csv(f'{output_dir}/pressure.csv')\n",
    "    print(f\"\\nPressure data: {len(pressure_data)} rows\")\n",
    "    print(pressure_data.head())\n",
    "\n",
    "if files_exist['temperature']:\n",
    "    temp_data = pd.read_csv(f'{output_dir}/temperature.csv')\n",
    "    print(f\"\\nTemperature data: {len(temp_data)} rows\")\n",
    "    print(temp_data.head())"
   ]
  },
  {
   "cell_type": "markdown",
   "id": "plots-header",
   "metadata": {},
   "source": [
    "## Thermodynamic Property Evolution"
   ]
  },
  {
   "cell_type": "code",
   "execution_count": null,
   "id": "plot-thermo",
   "metadata": {},
   "outputs": [],
   "source": [
    "# Create comprehensive thermodynamic plots\n",
    "n_plots = sum([files_exist['temperature'], files_exist['energy'], files_exist['pressure']])\n",
    "\n",
    "if n_plots == 0:\n",
    "    print(\"No data files found for plotting.\")\n",
    "else:\n",
    "    fig = plt.figure(figsize=(14, 4*n_plots))\n",
    "    gs = GridSpec(n_plots, 1, figure=fig, hspace=0.3)\n",
    "    \n",
    "    plot_idx = 0\n",
    "    \n",
    "    # Temperature plot\n",
    "    if files_exist['temperature']:\n",
    "        ax = fig.add_subplot(gs[plot_idx, 0])\n",
    "        ax.plot(temp_data['Step'], temp_data['Temperature'], linewidth=1.5, color='#e74c3c')\n",
    "        ax.set_xlabel('Timestep')\n",
    "        ax.set_ylabel('Temperature (T*)')\n",
    "        ax.set_title('Temperature Evolution', fontsize=14, fontweight='bold')\n",
    "        ax.grid(True, alpha=0.3)\n",
    "        \n",
    "        # Add mean temperature line\n",
    "        mean_temp = temp_data['Temperature'].mean()\n",
    "        ax.axhline(mean_temp, color='black', linestyle='--', linewidth=1, \n",
    "                   label=f'Mean: {mean_temp:.4f}')\n",
    "        ax.legend()\n",
    "        plot_idx += 1\n",
    "    \n",
    "    # Energy plot\n",
    "    if files_exist['energy']:\n",
    "        ax = fig.add_subplot(gs[plot_idx, 0])\n",
    "        ax.plot(energy_data['Step'], energy_data['PE'], label='Potential Energy', \n",
    "                linewidth=1.5, color='#3498db')\n",
    "        ax.plot(energy_data['Step'], energy_data['KE'], label='Kinetic Energy', \n",
    "                linewidth=1.5, color='#2ecc71')\n",
    "        ax.plot(energy_data['Step'], energy_data['TotalEnergy'], label='Total Energy', \n",
    "                linewidth=1.5, color='#9b59b6')\n",
    "        ax.set_xlabel('Timestep')\n",
    "        ax.set_ylabel('Energy (ε)')\n",
    "        ax.set_title('Energy Evolution', fontsize=14, fontweight='bold')\n",
    "        ax.legend()\n",
    "        ax.grid(True, alpha=0.3)\n",
    "        plot_idx += 1\n",
    "    \n",
    "    # Pressure plot\n",
    "    if files_exist['pressure']:\n",
    "        ax = fig.add_subplot(gs[plot_idx, 0])\n",
    "        ax.plot(pressure_data['Step'], pressure_data['Pressure'], \n",
    "                linewidth=1.5, color='#f39c12')\n",
    "        ax.set_xlabel('Timestep')\n",
    "        ax.set_ylabel('Pressure (P*)')\n",
    "        ax.set_title('Pressure Evolution', fontsize=14, fontweight='bold')\n",
    "        ax.grid(True, alpha=0.3)\n",
    "        \n",
    "        # Add mean pressure line\n",
    "        mean_press = pressure_data['Pressure'].mean()\n",
    "        ax.axhline(mean_press, color='black', linestyle='--', linewidth=1, \n",
    "                   label=f'Mean: {mean_press:.4f}')\n",
    "        ax.legend()\n",
    "        plot_idx += 1\n",
    "    \n",
    "    plt.savefig(f'{output_dir}/thermodynamics.png', dpi=300, bbox_inches='tight')\n",
    "    plt.show()\n",
    "    print(f\"\\nPlot saved to {output_dir}/thermodynamics.png\")"
   ]
  },
  {
   "cell_type": "markdown",
   "id": "stats-header",
   "metadata": {},
   "source": [
    "## Statistical Analysis"
   ]
  },
  {
   "cell_type": "code",
   "execution_count": null,
   "id": "statistics",
   "metadata": {},
   "outputs": [],
   "source": [
    "# Calculate and display statistics\n",
    "print(\"=\"*60)\n",
    "print(\"SIMULATION STATISTICS\")\n",
    "print(\"=\"*60)\n",
    "\n",
    "if files_exist['temperature']:\n",
    "    print(\"\\nTemperature:\")\n",
    "    print(f\"  Mean: {temp_data['Temperature'].mean():.6f}\")\n",
    "    print(f\"  Std Dev: {temp_data['Temperature'].std():.6f}\")\n",
    "    print(f\"  Min: {temp_data['Temperature'].min():.6f}\")\n",
    "    print(f\"  Max: {temp_data['Temperature'].max():.6f}\")\n",
    "\n",
    "if files_exist['energy']:\n",
    "    print(\"\\nEnergy:\")\n",
    "    print(f\"  Mean PE: {energy_data['PE'].mean():.6f}\")\n",
    "    print(f\"  Mean KE: {energy_data['KE'].mean():.6f}\")\n",
    "    print(f\"  Mean Total: {energy_data['TotalEnergy'].mean():.6f}\")\n",
    "    print(f\"  Energy Drift: {abs(energy_data['TotalEnergy'].iloc[-1] - energy_data['TotalEnergy'].iloc[0]):.6e}\")\n",
    "\n",
    "if files_exist['pressure']:\n",
    "    print(\"\\nPressure:\")\n",
    "    print(f\"  Mean: {pressure_data['Pressure'].mean():.6f}\")\n",
    "    print(f\"  Std Dev: {pressure_data['Pressure'].std():.6f}\")\n",
    "    print(f\"  Min: {pressure_data['Pressure'].min():.6f}\")\n",
    "    print(f\"  Max: {pressure_data['Pressure'].max():.6f}\")\n",
    "\n",
    "print(\"\\n\" + \"=\"*60)"
   ]
  },
  {
   "cell_type": "markdown",
   "id": "rdf-header",
   "metadata": {},
   "source": [
    "## Radial Distribution Function (RDF)\n",
    "\n",
    "Calculate the pair correlation function g(r) from the trajectory."
   ]
  },
  {
   "cell_type": "code",
   "execution_count": null,
   "id": "rdf-calc",
   "metadata": {},
   "outputs": [],
   "source": [
    "# Note: For RDF calculation, you would need to parse the trajectory file\n",
    "# This requires additional libraries like MDAnalysis or custom parsing\n",
    "# This is left as an exercise or can be implemented with MDAnalysis\n",
    "\n",
    "print(\"RDF calculation requires trajectory parsing.\")\n",
    "print(\"Trajectory file: output/trajectory.lammpstrj\")\n",
    "print(\"\\nTo calculate RDF, you can:\")\n",
    "print(\"1. Use MDAnalysis library\")\n",
    "print(\"2. Use LAMMPS rerun with compute rdf\")\n",
    "print(\"3. Use OVITO for visualization and analysis\")"
   ]
  }
 ],
 "metadata": {
  "kernelspec": {
   "display_name": "Python 3",
   "language": "python",
   "name": "python3"
  },
  "language_info": {
   "codemirror_mode": {
    "name": "ipython",
    "version": 3
   },
   "file_extension": ".py",
   "mimetype": "text/x-python",
   "name": "python",
   "nbconvert_exporter": "python",
   "pygments_lexer": "ipython3",
   "version": "3.8.10"
  }
 },
 "nbformat": 4,
 "nbformat_minor": 5
}
