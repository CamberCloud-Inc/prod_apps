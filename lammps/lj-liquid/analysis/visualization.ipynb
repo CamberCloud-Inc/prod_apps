{
 "cells": [
  {
   "cell_type": "markdown",
   "id": "header",
   "metadata": {},
   "source": [
    "# Lennard-Jones Liquid Analysis and Visualization\n",
    "\n",
    "This notebook provides tools for analyzing and visualizing the results of LJ liquid simulations."
   ]
  },
  {
   "cell_type": "code",
   "execution_count": null,
   "id": "install-deps",
   "metadata": {},
   "outputs": [],
   "source": [
    "# Install required packages\n",
    "import subprocess\n",
    "import sys\n",
    "\n",
    "packages = ['matplotlib', 'numpy', 'pandas', 'scipy']\n",
    "for package in packages:\n",
    "    subprocess.check_call([sys.executable, '-m', 'pip', 'install', '-q', package])\n",
    "\n",
    "print(\"All dependencies installed successfully!\")"
   ]
  },
  {
   "cell_type": "code",
   "execution_count": null,
   "id": "imports",
   "metadata": {},
   "outputs": [],
   "source": [
    "import numpy as np\n",
    "import pandas as pd\n",
    "import matplotlib.pyplot as plt\n",
    "from matplotlib.gridspec import GridSpec\n",
    "import os\n",
    "\n",
    "# Set plot style\n",
    "plt.style.use('seaborn-v0_8-darkgrid')\n",
    "plt.rcParams['figure.figsize'] = (12, 8)\n",
    "plt.rcParams['font.size'] = 10"
   ]
  },
  {
   "cell_type": "markdown",
   "id": "load-header",
   "metadata": {},
   "source": [
    "## Load Simulation Data"
   ]
  },
  {
   "cell_type": "code",
   "execution_count": null,
   "id": "load-data",
   "metadata": {},
   "outputs": [],
   "source": [
    "# Load thermodynamic data\n",
    "output_dir = '../output'\n",
    "\n",
    "# Check if files exist\n",
    "files_exist = {\n",
    "    'energy': os.path.exists(f'{output_dir}/energy.csv'),\n",
    "    'pressure': os.path.exists(f'{output_dir}/pressure.csv'),\n",
    "    'temperature': os.path.exists(f'{output_dir}/temperature.csv')\n",
    "}\n",
    "\n",
    "print(\"Available data files:\")\n",
    "for name, exists in files_exist.items():\n",
    "    print(f\"  {name}.csv: {'✓' if exists else '✗'}\")\n",
    "\n",
    "# Load data\n",
    "if files_exist['energy']:\n",
    "    energy_data = pd.read_csv(f'{output_dir}/energy.csv')\n",
    "    print(f\"\\nEnergy data: {len(energy_data)} rows\")\n",
    "    print(energy_data.head())\n",
    "\n",
    "if files_exist['pressure']:\n",
    "    pressure_data = pd.read_csv(f'{output_dir}/pressure.csv')\n",
    "    print(f\"\\nPressure data: {len(pressure_data)} rows\")\n",
    "    print(pressure_data.head())\n",
    "\n",
    "if files_exist['temperature']:\n",
    "    temp_data = pd.read_csv(f'{output_dir}/temperature.csv')\n",
    "    print(f\"\\nTemperature data: {len(temp_data)} rows\")\n",
    "    print(temp_data.head())"
   ]
  },
  {
   "cell_type": "markdown",
   "id": "plots-header",
   "metadata": {},
   "source": [
    "## Thermodynamic Property Evolution"
   ]
  },
  {
   "cell_type": "code",
   "execution_count": null,
   "id": "plot-thermo",
   "metadata": {},
   "outputs": [],
   "source": [
    "# Create comprehensive thermodynamic plots\n",
    "n_plots = sum([files_exist['temperature'], files_exist['energy'], files_exist['pressure']])\n",
    "\n",
    "if n_plots == 0:\n",
    "    print(\"No data files found for plotting.\")\n",
    "else:\n",
    "    fig = plt.figure(figsize=(14, 4*n_plots))\n",
    "    gs = GridSpec(n_plots, 1, figure=fig, hspace=0.3)\n",
    "    \n",
    "    plot_idx = 0\n",
    "    \n",
    "    # Temperature plot\n",
    "    if files_exist['temperature']:\n",
    "        ax = fig.add_subplot(gs[plot_idx, 0])\n",
    "        ax.plot(temp_data['Step'], temp_data['Temperature'], linewidth=1.5, color='#e74c3c')\n",
    "        ax.set_xlabel('Timestep')\n",
    "        ax.set_ylabel('Temperature (T*)')\n",
    "        ax.set_title('Temperature Evolution', fontsize=14, fontweight='bold')\n",
    "        ax.grid(True, alpha=0.3)\n",
    "        \n",
    "        # Add mean temperature line\n",
    "        mean_temp = temp_data['Temperature'].mean()\n",
    "        ax.axhline(mean_temp, color='black', linestyle='--', linewidth=1, \n",
    "                   label=f'Mean: {mean_temp:.4f}')\n",
    "        ax.legend()\n",
    "        plot_idx += 1\n",
    "    \n",
    "    # Energy plot\n",
    "    if files_exist['energy']:\n",
    "        ax = fig.add_subplot(gs[plot_idx, 0])\n",
    "        ax.plot(energy_data['Step'], energy_data['PE'], label='Potential Energy', \n",
    "                linewidth=1.5, color='#3498db')\n",
    "        ax.plot(energy_data['Step'], energy_data['KE'], label='Kinetic Energy', \n",
    "                linewidth=1.5, color='#2ecc71')\n",
    "        ax.plot(energy_data['Step'], energy_data['TotalEnergy'], label='Total Energy', \n",
    "                linewidth=1.5, color='#9b59b6')\n",
    "        ax.set_xlabel('Timestep')\n",
    "        ax.set_ylabel('Energy (ε)')\n",
    "        ax.set_title('Energy Evolution', fontsize=14, fontweight='bold')\n",
    "        ax.legend()\n",
    "        ax.grid(True, alpha=0.3)\n",
    "        plot_idx += 1\n",
    "    \n",
    "    # Pressure plot\n",
    "    if files_exist['pressure']:\n",
    "        ax = fig.add_subplot(gs[plot_idx, 0])\n",
    "        ax.plot(pressure_data['Step'], pressure_data['Pressure'], \n",
    "                linewidth=1.5, color='#f39c12')\n",
    "        ax.set_xlabel('Timestep')\n",
    "        ax.set_ylabel('Pressure (P*)')\n",
    "        ax.set_title('Pressure Evolution', fontsize=14, fontweight='bold')\n",
    "        ax.grid(True, alpha=0.3)\n",
    "        \n",
    "        # Add mean pressure line\n",
    "        mean_press = pressure_data['Pressure'].mean()\n",
    "        ax.axhline(mean_press, color='black', linestyle='--', linewidth=1, \n",
    "                   label=f'Mean: {mean_press:.4f}')\n",
    "        ax.legend()\n",
    "        plot_idx += 1\n",
    "    \n",
    "    plt.savefig(f'{output_dir}/thermodynamics.png', dpi=300, bbox_inches='tight')\n",
    "    plt.show()\n",
    "    print(f\"\\nPlot saved to {output_dir}/thermodynamics.png\")"
   ]
  },
  {
   "cell_type": "markdown",
   "id": "stats-header",
   "metadata": {},
   "source": [
    "## Statistical Analysis"
   ]
  },
  {
   "cell_type": "code",
   "execution_count": null,
   "id": "statistics",
   "metadata": {},
   "outputs": [],
   "source": [
    "# Calculate and display statistics\n",
    "print(\"=\"*60)\n",
    "print(\"SIMULATION STATISTICS\")\n",
    "print(\"=\"*60)\n",
    "\n",
    "if files_exist['temperature']:\n",
    "    print(\"\\nTemperature:\")\n",
    "    print(f\"  Mean: {temp_data['Temperature'].mean():.6f}\")\n",
    "    print(f\"  Std Dev: {temp_data['Temperature'].std():.6f}\")\n",
    "    print(f\"  Min: {temp_data['Temperature'].min():.6f}\")\n",
    "    print(f\"  Max: {temp_data['Temperature'].max():.6f}\")\n",
    "\n",
    "if files_exist['energy']:\n",
    "    print(\"\\nEnergy:\")\n",
    "    print(f\"  Mean PE: {energy_data['PE'].mean():.6f}\")\n",
    "    print(f\"  Mean KE: {energy_data['KE'].mean():.6f}\")\n",
    "    print(f\"  Mean Total: {energy_data['TotalEnergy'].mean():.6f}\")\n",
    "    print(f\"  Energy Drift: {abs(energy_data['TotalEnergy'].iloc[-1] - energy_data['TotalEnergy'].iloc[0]):.6e}\")\n",
    "\n",
    "if files_exist['pressure']:\n",
    "    print(\"\\nPressure:\")\n",
    "    print(f\"  Mean: {pressure_data['Pressure'].mean():.6f}\")\n",
    "    print(f\"  Std Dev: {pressure_data['Pressure'].std():.6f}\")\n",
    "    print(f\"  Min: {pressure_data['Pressure'].min():.6f}\")\n",
    "    print(f\"  Max: {pressure_data['Pressure'].max():.6f}\")\n",
    "\n",
    "print(\"\\n\" + \"=\"*60)"
   ]
  },
  {
   "cell_type": "markdown",
   "id": "rdf-header",
   "metadata": {},
   "source": [
    "## Radial Distribution Function (RDF)\n",
    "\n",
    "Calculate the pair correlation function g(r) from the trajectory."
   ]
  },
  {
   "cell_type": "code",
   "execution_count": null,
   "id": "rdf-calc",
   "metadata": {},
   "outputs": [],
   "source": "# Load and plot RDF data\nrdf_file = f'{output_dir}/rdf.dat'\n\nif os.path.exists(rdf_file):\n    # Read RDF data (LAMMPS format: # Row r g(r))\n    rdf_data = []\n    with open(rdf_file, 'r') as f:\n        for line in f:\n            if not line.startswith('#') and line.strip():\n                parts = line.split()\n                if len(parts) >= 3:\n                    row, r, gr = parts[0], float(parts[1]), float(parts[2])\n                    rdf_data.append([r, gr])\n    \n    rdf_array = np.array(rdf_data)\n    r_values = rdf_array[:, 0]\n    g_values = rdf_array[:, 1]\n    \n    # Plot RDF\n    fig, ax = plt.subplots(figsize=(10, 6))\n    ax.plot(r_values, g_values, linewidth=2, color='#2c3e50')\n    ax.set_xlabel('r/σ', fontsize=12)\n    ax.set_ylabel('g(r)', fontsize=12)\n    ax.set_title('Radial Distribution Function', fontsize=14, fontweight='bold')\n    ax.grid(True, alpha=0.3)\n    ax.axhline(1.0, color='red', linestyle='--', linewidth=1, alpha=0.5, label='g(r) = 1')\n    ax.legend()\n    \n    plt.tight_layout()\n    plt.savefig(f'{output_dir}/rdf.png', dpi=300, bbox_inches='tight')\n    plt.show()\n    \n    print(f\"RDF plot saved to {output_dir}/rdf.png\")\n    print(f\"\\nRDF Statistics:\")\n    print(f\"  Number of bins: {len(r_values)}\")\n    print(f\"  Maximum g(r): {g_values.max():.4f} at r/σ = {r_values[np.argmax(g_values)]:.4f}\")\n    print(f\"  First minimum at r/σ ≈ {r_values[np.argmin(g_values[:50])]:.4f}\")\n    \n    # Find coordination number (integral of 4πr²ρg(r) up to first minimum)\n    density_param = 0.8  # This should match input density\n    first_min_idx = np.argmin(g_values[:50])\n    r_first_min = r_values[first_min_idx]\n    \n    # Numerical integration using trapezoidal rule\n    r_integr = r_values[:first_min_idx+1]\n    g_integr = g_values[:first_min_idx+1]\n    integrand = 4 * np.pi * r_integr**2 * density_param * g_integr\n    coord_num = np.trapz(integrand, r_integr)\n    \n    print(f\"  Coordination number (up to first minimum): {coord_num:.2f}\")\nelse:\n    print(\"RDF data file not found. Make sure the simulation completed successfully.\")\n    print(f\"Expected file: {rdf_file}\")"
  }
 ],
 "metadata": {
  "kernelspec": {
   "display_name": "Python 3",
   "language": "python",
   "name": "python3"
  },
  "language_info": {
   "codemirror_mode": {
    "name": "ipython",
    "version": 3
   },
   "file_extension": ".py",
   "mimetype": "text/x-python",
   "name": "python",
   "nbconvert_exporter": "python",
   "pygments_lexer": "ipython3",
   "version": "3.8.10"
  }
 },
 "nbformat": 4,
 "nbformat_minor": 5
}