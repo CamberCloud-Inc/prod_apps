{
 "cells": [
  {
   "cell_type": "markdown",
   "metadata": {},
   "source": [
    "# LAMMPS Nanotube Visualization\n",
    "Setup: Install dependencies, load data, configure parameters"
   ]
  },
  {
   "cell_type": "code",
   "execution_count": null,
   "metadata": {},
   "outputs": [],
   "source": [
    "import sys, subprocess, os\n",
    "def install(pkg): \n",
    "    try: __import__(pkg.split('>=')[0])\n",
    "    except: subprocess.check_call([sys.executable, \"-m\", \"pip\", \"install\", \"--user\", pkg])\n",
    "[install(p) for p in [\"MDAnalysis>=2.4.0\", \"matplotlib>=3.5.0\", \"imageio>=2.15.0\", \"pandas>=1.3.0\"]]\n",
    "\n",
    "import MDAnalysis as mda, matplotlib.pyplot as plt, imageio, numpy as np, pandas as pd, matplotlib.gridspec as gridspec\n",
    "from MDAnalysis.lib.distances import distance_array\n",
    "\n",
    "LEFT_FORCE_DURATION, LEFT_VELOCITY = 20000, 0.003\n",
    "u = mda.Universe(\"trajectory.lammpstrj\", format=\"LAMMPSDUMP\")\n",
    "temp_df = pd.read_csv('temperature.csv')\n",
    "steps, temps = temp_df['Step'].values, temp_df['Temperature'].values\n",
    "total_sim_time = int(steps.max())\n",
    "force_zero_timestep = 100 + LEFT_FORCE_DURATION + 600\n",
    "\n",
    "distances = distance_array(u.atoms.positions, u.atoms.positions)\n",
    "bond_pairs = [(i, j) for i in range(len(u.atoms)) for j in range(i+1, len(u.atoms)) if 1.2 <= distances[i, j] <= 1.8]\n",
    "if bond_pairs: u.add_TopologyAttr('bonds', np.array(bond_pairs))\n",
    "\n",
    "all_x = np.concatenate([ts.positions[:, 0] for ts in u.trajectory])\n",
    "all_y = np.concatenate([ts.positions[:, 1] for ts in u.trajectory])\n",
    "xlim, ylim = (all_x.min(), all_x.max()), (all_y.min(), all_y.max())\n",
    "u.trajectory.rewind()"
   ]
  },
  {
   "cell_type": "markdown",
   "metadata": {},
   "source": "Generate: Create animation frames with bonds, arrows, and temperature plot → cnt_trajectory.gif"
  },
  {
   "cell_type": "code",
   "execution_count": null,
   "metadata": {},
   "outputs": [],
   "source": "images, N, arrow_length, decay = [], 10, 30, 5\n\nfor i, ts in enumerate(u.trajectory):\n    if i % 20 != 0: continue\n    positions, cnt_top, cnt_bot = u.atoms.positions, u.atoms[:N], u.atoms[-N:]\n    fig = plt.figure(figsize=(8, 6))\n    gs = gridspec.GridSpec(2, 1, height_ratios=[3, 1], hspace=0.3)\n    ax_main, ax_life = fig.add_subplot(gs[0]), fig.add_subplot(gs[1])\n    \n    mean_y = np.mean(positions[:, 1])\n    for bond in u.bonds:\n        pos1, pos2 = bond.atoms.positions\n        alpha = np.exp(-np.abs(np.mean([pos1[1], pos2[1]]) - mean_y)/decay)\n        ax_main.plot([pos1[0], pos2[0]], [pos1[1], pos2[1]], color='hotpink', linewidth=2, alpha=alpha)\n    \n    center_y, left_x, right_x = np.mean(positions[:, 1]), np.mean(cnt_top.positions[:, 0]), np.mean(cnt_bot.positions[:, 0])\n    current_step = int(ts.time)\n    if current_step < force_zero_timestep:\n        ax_main.arrow(left_x, center_y, -arrow_length/3, 0, width=1, color='blue', head_width=4, head_length=4)\n    ax_main.arrow(right_x, center_y, arrow_length/3, 0, width=1, color='blue', head_width=4, head_length=4)\n    \n    ax_main.set_title(f\"Timestep {ts.time:.0f}\", fontsize=18)\n    ax_main.axis('off')\n    ax_main.set_xlim(xlim[0] - 50, xlim[1] + 50)\n    ax_main.set_ylim(ylim)\n    \n    idx = (steps <= current_step)\n    ax_life.set_xlim(0, total_sim_time)\n    ax_life.plot(steps, temps, color='gray', alpha=0.3)\n    ax_life.plot(steps[idx], temps[idx], color='red', linewidth=2)\n    ax_life.set_ylabel('Temp')\n    ax_life.set_xlabel('Step')\n    ax_life.set_ylim(temps.min(), temps.max())\n    ax_life.grid(True, alpha=0.2)\n    \n    plt.tight_layout(pad=0.5)\n    fig.canvas.draw()\n    image = np.frombuffer(fig.canvas.buffer_rgba(), dtype='uint8').reshape(fig.canvas.get_width_height()[::-1] + (4,))\n    images.append(image[..., :3])\n    plt.close(fig)\n\nif images:\n    imageio.mimsave('cnt_trajectory.gif', images, duration=1/300, loop=0)\n    print(f\"Generated cnt_trajectory.gif with {len(images)} frames\")\nelse:\n    print(\"No images generated\")"
  }
 ],
 "metadata": {
  "kernelspec": {
   "display_name": "Python 3",
   "language": "python",
   "name": "python3"
  },
  "language_info": {
   "codemirror_mode": {
    "name": "ipython",
    "version": 3
   },
   "file_extension": ".py",
   "mimetype": "text/x-python",
   "name": "python",
   "nbconvert_exporter": "python",
   "pygments_lexer": "ipython3",
   "version": "3.8.0"
  }
 },
 "nbformat": 4,
 "nbformat_minor": 4
}