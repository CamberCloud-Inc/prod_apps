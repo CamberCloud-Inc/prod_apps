{
 "cells": [
  {
   "cell_type": "markdown",
   "id": "4ff55d49",
   "metadata": {},
   "source": [
    "# LAMMPS Molecular Dynamics Simulation\n",
    "\n",
    "This tutorial demonstrates how to run a [LAMMPS](https://lammps.org/) (Large-scale Atomic/Molecular Massively Parallel Simulator) molecular dynamics simulation using Camber. LAMMPS is a powerful tool for simulating the dynamics of atoms and molecules, commonly used for studying materials science, chemistry, and biological systems.\n",
    "\n",
    "In this example, we'll simulate a carbon nanotube structure using the \"unbreakable\" simulation setup, which demonstrates molecular dynamics of a complex carbon structure. The workflow includes:\n",
    "- Setting up and running the LAMMPS simulation\n",
    "- Creating interactive visualizations of the trajectory output"
   ]
  },
  {
   "cell_type": "markdown",
   "id": "600670ef",
   "metadata": {},
   "source": [
    "\n",
    "## Import Camber Package\n",
    "\n",
    "First, we import the Camber package which provides the interface for running LAMMPS simulations on the cloud platform:"
   ]
  },
  {
   "cell_type": "code",
   "execution_count": null,
   "id": "6293fcd0",
   "metadata": {},
   "outputs": [],
   "source": [
    "import camber"
   ]
  },
  {
   "cell_type": "markdown",
   "id": "a958db8f",
   "metadata": {},
   "source": [
    "\n",
    "## Configure and Submit LAMMPS Job\n",
    "\n",
    "Here we configure and submit a LAMMPS molecular dynamics job:\n",
    "\n",
    "- `command=\"lmp -in unbreakable.lmp\"`: Specifies the LAMMPS command to execute the input script\n",
    "- `engine_size=\"XSMALL\"`: Indicates the [engine size](https://docs.cambercloud.com/docs/engines-pricing/#cpu-engine-sizes) for the simulation\n",
    "- `with_gpu=False`: Runs the simulation on CPU (set to True for GPU acceleration)\n",
    "\n",
    "The simulation uses these input files:\n",
    "- `unbreakable.lmp`: Main LAMMPS input script defining the simulation parameters\n",
    "- `unbreakable.data`: Initial molecular structure data for the carbon nanotube\n",
    "- `unbreakable.inc`: Include file with additional force field parameters"
   ]
  },
  {
   "cell_type": "code",
   "execution_count": null,
   "id": "5954d115",
   "metadata": {},
   "outputs": [],
   "source": [
    "lmp_job = camber.lammps.create_job(\n",
    "    command=\"lmp -in unbreakable.lmp\",\n",
    "    engine_size=\"XSMALL\",\n",
    "    with_gpu=False\n",
    ")"
   ]
  },
  {
   "cell_type": "markdown",
   "id": "daea1881",
   "metadata": {},
   "source": [
    "\n",
    "## Check Job Status\n",
    "\n",
    "Monitor the [job status](https://docs.cambercloud.com/docs/reference/job-attributes/#status) to track the simulation progress:"
   ]
  },
  {
   "cell_type": "code",
   "execution_count": null,
   "id": "bd1ced2f",
   "metadata": {},
   "outputs": [],
   "source": [
    "lmp_job.status"
   ]
  },
  {
   "cell_type": "markdown",
   "id": "078bc1f2",
   "metadata": {},
   "source": [
    "\n",
    "## Monitor Job Execution\n",
    "\n",
    "To monitor job execution in real-time, use the `read_logs()` method to view the LAMMPS output and simulation progress (please, stand by patiently until the output appears):"
   ]
  },
  {
   "cell_type": "code",
   "execution_count": null,
   "id": "dcf9fb20",
   "metadata": {},
   "outputs": [],
   "source": [
    "lmp_job.read_logs()"
   ]
  },
  {
   "cell_type": "markdown",
   "id": "7b9c7114",
   "metadata": {},
   "source": [
    "\n",
    "## Analyze and Visualize Trajectory\n",
    "\n",
    "Once the LAMMPS simulation is complete, we can analyze and visualize the molecular dynamics trajectory. This section:\n",
    "\n",
    "1. **Loads the trajectory**: Uses MDAnalysis to read the LAMMPS trajectory file (`trajectory.lammpstrj`)\n",
    "2. **Processes molecular bonds**: Attempts to identify chemical bonds between atoms for better visualization\n",
    "3. **Creates interactive visualization**: Uses NGLView to display the molecular structure with playback controls\n",
    "4. **Adds user controls**: Provides play/pause and frame slider widgets for exploring the dynamics\n",
    "\n",
    "The visualization shows the time evolution of the carbon nanotube structure during the molecular dynamics simulation:"
   ]
  },
  {
   "cell_type": "code",
   "execution_count": null,
   "id": "69b15811",
   "metadata": {},
   "outputs": [],
   "source": [
    "import os\n",
    "import MDAnalysis as mda\n",
    "import nglview as nv\n",
    "import ipywidgets as widgets\n",
    "from IPython.display import display\n",
    "import numpy as np\n",
    "\n",
    "base_path = os.getcwd()\n",
    "u = mda.Universe(os.path.join(base_path, \"trajectory.lammpstrj\"), format=\"LAMMPSDUMP\")\n",
    "\n",
    "try:\n",
    "    from MDAnalysis.lib.distances import distance_array\n",
    "    positions = u.atoms.positions\n",
    "    distances = distance_array(positions, positions)\n",
    "    bond_pairs = [(i, j) for i in range(len(u.atoms)) for j in range(i+1, len(u.atoms)) if 1.2 <= distances[i, j] <= 1.8]\n",
    "    if bond_pairs:\n",
    "        u.add_TopologyAttr('bonds', np.array(bond_pairs))\n",
    "except:\n",
    "    try:\n",
    "        u.atoms.guess_bonds(vdwradii={'1': 2.0}, fudge_factor=0.8)\n",
    "    except:\n",
    "        pass\n",
    "\n",
    "view = nv.show_mdanalysis(u, step=1)\n",
    "view.clear_representations()\n",
    "\n",
    "try:\n",
    "    if len(u.bonds) > 0:\n",
    "        view.add_representation('ball+stick', selection='all', radius=0.05, bond_radius=0.05, color='hotpink')\n",
    "    else:\n",
    "        raise ValueError()\n",
    "except:\n",
    "    view.add_representation('licorice', selection='all', radius=0.1, color='hotpink')\n",
    "\n",
    "play = widgets.Play(value=0, min=0, max=u.trajectory.n_frames-1, step=1, interval=10, description=\"▶️\")\n",
    "frame_slider = widgets.IntSlider(value=0, min=0, max=u.trajectory.n_frames-1, step=1, description='Frame:')\n",
    "\n",
    "widgets.jslink((play, 'value'), (view, 'frame'))\n",
    "widgets.jslink((frame_slider, 'value'), (view, 'frame'))\n",
    "\n",
    "display(widgets.HBox([play, frame_slider]))\n",
    "view"
   ]
  }
 ],
 "metadata": {
  "kernelspec": {
   "display_name": "CamberPy",
   "language": "python",
   "name": "python3"
  },
  "language_info": {
   "codemirror_mode": {
    "name": "ipython",
    "version": 3
   },
   "file_extension": ".py",
   "mimetype": "text/x-python",
   "name": "python",
   "nbconvert_exporter": "python",
   "pygments_lexer": "ipython3",
   "version": "3.12.7"
  }
 },
 "nbformat": 4,
 "nbformat_minor": 5
}
