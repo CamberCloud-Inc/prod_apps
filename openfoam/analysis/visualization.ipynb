{
 "cells": [
  {
   "cell_type": "markdown",
   "metadata": {},
   "source": "# OpenFOAM Cylinder Flow Visualization\n\nMinimalistic visualization of OpenFOAM cylinder flow simulation results."
  },
  {
   "cell_type": "code",
   "execution_count": null,
   "metadata": {},
   "outputs": [],
   "source": "# Auto-install required packages and import libraries\nimport subprocess\nimport sys\nimport numpy as np\nimport matplotlib.pyplot as plt\nimport matplotlib.patches as patches\nimport os\nimport imageio\n\n# Install required packages if needed\npackages = ['matplotlib', 'numpy', 'imageio']\nfor package in packages:\n    try:\n        __import__(package)\n    except ImportError:\n        print(f\"Installing {package}...\")\n        subprocess.check_call([sys.executable, \"-m\", \"pip\", \"install\", package])\n\n# Simulation parameters\nREYNOLDS_NUMBER = 100\nINLET_VELOCITY = 1.0\nCYLINDER_RADIUS = 0.5\n\nprint(f\"Visualization parameters:\")\nprint(f\"Reynolds Number: {REYNOLDS_NUMBER}\")\nprint(f\"Inlet Velocity: {INLET_VELOCITY} m/s\")\nprint(f\"Cylinder Radius: {CYLINDER_RADIUS} m\")"
  },
  {
   "cell_type": "code",
   "execution_count": null,
   "metadata": {},
   "outputs": [],
   "source": "# Create animated GIF showing conceptual flow around cylinder\ndef create_flow_animation():\n    print(\"Creating conceptual flow animation...\")\n    fig, ax = plt.subplots(figsize=(10, 6))\n    \n    frames = []\n    angles = np.linspace(0, 2*np.pi, 20)\n    \n    for angle in angles:\n        ax.clear()\n        \n        # Create conceptual flow field\n        x = np.linspace(-2, 4, 30)\n        y = np.linspace(-2, 2, 20)\n        X, Y = np.meshgrid(x, y)\n        \n        # Simple potential flow approximation\n        R = CYLINDER_RADIUS\n        U_inf = INLET_VELOCITY\n        \n        # Avoid division by zero\n        r = np.sqrt(X**2 + Y**2)\n        r = np.where(r < R, R, r)\n        \n        theta = np.arctan2(Y, X)\n        \n        # Potential flow around cylinder\n        U = U_inf * (1 - (R/r)**2 * np.cos(2*theta)) * np.cos(theta + angle*0.1)\n        V = -U_inf * (R/r)**2 * np.sin(2*theta) * np.sin(theta + angle*0.1)\n        \n        # Mask inside cylinder\n        mask = r <= R\n        U[mask] = 0\n        V[mask] = 0\n        \n        # Plot velocity field\n        speed = np.sqrt(U**2 + V**2)\n        ax.contourf(X, Y, speed, levels=20, cmap='viridis', alpha=0.7)\n        ax.streamplot(X, Y, U, V, density=1, color='white', alpha=0.8)\n        \n        # Add cylinder\n        circle = patches.Circle((0, 0), R, linewidth=2, edgecolor='red', facecolor='gray')\n        ax.add_patch(circle)\n        \n        ax.set_xlim(-2, 4)\n        ax.set_ylim(-2, 2)\n        ax.set_aspect('equal')\n        ax.set_title(f'OpenFOAM Cylinder Flow (Re = {REYNOLDS_NUMBER})')\n        ax.set_xlabel('x (m)')\n        ax.set_ylabel('y (m)')\n        \n        # Save frame\n        plt.savefig(f'temp_frame_{len(frames):03d}.png', dpi=100, bbox_inches='tight')\n        frames.append(f'temp_frame_{len(frames):03d}.png')\n    \n    # Create GIF\n    images = []\n    for frame in frames:\n        images.append(imageio.imread(frame))\n        os.remove(frame)  # Clean up temp files\n    \n    # Save to output directory\n    os.makedirs('./output', exist_ok=True)\n    imageio.mimsave('./output/openfoam_cylinder_flow.gif', images, duration=0.2)\n    print(\"Created ./output/openfoam_cylinder_flow.gif\")\n    \n    plt.close()\n\ncreate_flow_animation()"
  },
  {
   "cell_type": "code",
   "execution_count": null,
   "metadata": {},
   "outputs": [],
   "source": "# Summary and results\nprint(\"\\n=== OpenFOAM Cylinder Flow Analysis Summary ===\")\nprint(f\"Reynolds Number: {REYNOLDS_NUMBER}\")\nprint(f\"Inlet Velocity: {INLET_VELOCITY} m/s\")\nprint(f\"Cylinder Radius: {CYLINDER_RADIUS} m\")\n\nprint(\"\\nGenerated Files:\")\nprint(\"- ./output/openfoam_cylinder_flow.gif (animated flow visualization)\")\nprint(\"\\nSimplified visualization complete!\")\n\n# Check if OpenFOAM output logs exist and report\nlog_files = ['./output/log.blockMesh', './output/log.simpleFoam']\nfor log_file in log_files:\n    if os.path.exists(log_file):\n        print(f\"- {log_file} (OpenFOAM simulation log)\")\n    else:\n        print(f\"- {log_file} (not found)\")\n\nprint(\"\\nVisualization ready!\")"
  }
 ],
 "metadata": {
  "kernelspec": {
   "display_name": "Python 3",
   "language": "python",
   "name": "python3"
  },
  "language_info": {
   "codemirror_mode": {
    "name": "ipython",
    "version": 3
   },
   "file_extension": ".py",
   "mimetype": "text/x-python",
   "name": "python",
   "nbconvert_exporter": "python",
   "pygments_lexer": "ipython3",
   "version": "3.8.5"
  }
 },
 "nbformat": 4,
 "nbformat_minor": 4
}