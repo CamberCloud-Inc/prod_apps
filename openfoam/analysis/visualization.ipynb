{
 "cells": [
  {
   "cell_type": "markdown",
   "metadata": {},
   "source": [
    "# OpenFOAM Potential Flow Visualization\n",
    "\n",
    "This notebook provides interactive visualization and analysis of OpenFOAM potential flow simulation results around a circular cylinder.\n",
    "\n",
    "## Features:\n",
    "- Load VTK output files from OpenFOAM simulation\n",
    "- Process and visualize velocity fields and streamlines\n",
    "- Interactive analysis of potential flow characteristics\n",
    "- Export publication-quality figures\n",
    "\n",
    "## Prerequisites:\n",
    "Ensure the OpenFOAM simulation has completed and VTK files are available in the `../VTK/` directory."
   ]
  },
  {
   "cell_type": "code",
   "execution_count": null,
   "metadata": {},
   "outputs": [],
   "source": [
    "# Install required visualization dependencies\n",
    "%pip install -qq pyvista matplotlib scipy numpy"
   ]
  },
  {
   "cell_type": "code",
   "execution_count": null,
   "metadata": {},
   "outputs": [],
   "source": [
    "# Import required libraries for data processing and visualization\n",
    "import numpy as np\n",
    "import matplotlib.pyplot as plt\n",
    "import pyvista as pv\n",
    "from scipy.interpolate import griddata\n",
    "from matplotlib.path import Path\n",
    "from scipy.spatial import ConvexHull\n",
    "import os\n",
    "from pathlib import Path as FS\n",
    "\n",
    "print(\"Libraries imported successfully!\")"
   ]
  },
  {
   "cell_type": "markdown",
   "metadata": {},
   "source": [
    "## Load and Process VTK Data\n",
    "\n",
    "Load the potential flow solution and cylinder boundary data from the OpenFOAM simulation results."
   ]
  },
  {
   "cell_type": "code",
   "execution_count": null,
   "metadata": {},
   "outputs": [],
   "source": [
    "# ============================================================================\n",
    "# LOAD AND PROCESS VTK DATA FROM POTENTIALFOAM SIMULATION\n",
    "# ============================================================================\n",
    "\n",
    "# Check if VTK directory exists\n",
    "vtk_path = FS('../VTK')\n",
    "if not vtk_path.exists():\n",
    "    print(\"ERROR: VTK directory not found. Please run the OpenFOAM simulation first.\")\n",
    "    print(\"Expected path: ../VTK/\")\n",
    "else:\n",
    "    print(f\"Found VTK directory: {vtk_path.absolute()}\")\n",
    "    \n",
    "    # Load the potential flow solution and cylinder boundary\n",
    "    run = next(d for d in vtk_path.iterdir() if d.is_dir())  # first sub-folder\n",
    "    print(f\"Loading data from: {run}\")\n",
    "    \n",
    "    mesh = pv.read(run / 'internal.vtu')\n",
    "    cylinder = pv.read(run / 'boundary' / 'cylinder.vtp')\n",
    "    \n",
    "    print(f\"Mesh loaded: {mesh.n_cells} cells, {mesh.n_points} points\")\n",
    "    print(f\"Cylinder boundary loaded: {cylinder.n_points} points\")\n",
    "    \n",
    "    # Extract cell centers and velocity data from the potential flow solution\n",
    "    cells = mesh.cell_centers()\n",
    "    centres = cells.points[:, :2]          # 2D cell-center coordinates (N×2)\n",
    "    U = mesh.cell_data[\"U\"][:, :2]         # Velocity components from potential flow [u, v] (N×2)\n",
    "    \n",
    "    print(f\"Extracted {len(centres)} cell centers and velocity vectors\")"
   ]
  },
  {
   "cell_type": "markdown",
   "metadata": {},
   "source": [
    "## Create Cylinder Boundary Mask\n",
    "\n",
    "Extract the cylinder boundary and create a mask to exclude interior points from the visualization."
   ]
  },
  {
   "cell_type": "code",
   "execution_count": null,
   "metadata": {},
   "outputs": [],
   "source": [
    "# ============================================================================\n",
    "# CREATE CYLINDER BOUNDARY POLYGON FOR MASKING\n",
    "# ============================================================================\n",
    "\n",
    "# Extract 2D cylinder boundary points and create convex hull\n",
    "c2d = cylinder.points[:, :2]\n",
    "hull = ConvexHull(c2d)\n",
    "poly = c2d[hull.vertices]              # Ordered boundary vertices\n",
    "poly_path = Path(poly)                 # Create matplotlib Path for inside/outside tests\n",
    "\n",
    "print(f\"Cylinder boundary: {len(poly)} vertices\")\n",
    "\n",
    "# Remove cell centers that are inside the cylinder body\n",
    "keep = ~poly_path.contains_points(centres)\n",
    "centres, U = centres[keep], U[keep]\n",
    "\n",
    "print(f\"Filtered to {len(centres)} external points (removed {np.sum(~keep)} interior points)\")"
   ]
  },
  {
   "cell_type": "markdown",
   "metadata": {},
   "source": [
    "## Interpolate to Regular Grid\n",
    "\n",
    "Convert the unstructured CFD data to a regular grid for streamline visualization."
   ]
  },
  {
   "cell_type": "code",
   "execution_count": null,
   "metadata": {},
   "outputs": [],
   "source": [
    "# ============================================================================\n",
    "# INTERPOLATE TO REGULAR GRID FOR STREAMLINE VISUALIZATION\n",
    "# ============================================================================\n",
    "\n",
    "# Create regular rectangular grid for streamline plotting\n",
    "nx = ny = 300  # Grid resolution\n",
    "xi = np.linspace(centres[:,0].min(), centres[:,0].max(), nx)\n",
    "yi = np.linspace(centres[:,1].min(), centres[:,1].max(), ny)\n",
    "X, Y = np.meshgrid(xi, yi)\n",
    "\n",
    "print(f\"Created {nx}×{ny} regular grid\")\n",
    "print(f\"X range: [{xi.min():.2f}, {xi.max():.2f}]\")\n",
    "print(f\"Y range: [{yi.min():.2f}, {yi.max():.2f}]\")\n",
    "\n",
    "# Interpolate velocity components from unstructured to structured grid\n",
    "u = griddata(centres, U[:,0], (X, Y), method='linear')  # x-velocity component\n",
    "v = griddata(centres, U[:,1], (X, Y), method='linear')  # y-velocity component\n",
    "\n",
    "# Apply cylinder mask to grid (remove points inside cylinder)\n",
    "inside = poly_path.contains_points(np.c_[X.ravel(), Y.ravel()]).reshape(X.shape)\n",
    "u[inside] = v[inside] = np.nan  # Set interior points to NaN\n",
    "speed = np.hypot(u, v)              # Calculate velocity magnitude\n",
    "\n",
    "print(f\"Interpolation complete. Speed range: [{np.nanmin(speed):.3f}, {np.nanmax(speed):.3f}] m/s\")"
   ]
  },
  {
   "cell_type": "markdown",
   "metadata": {},
   "source": [
    "## Streamline Visualization\n",
    "\n",
    "Create the main streamline plot showing smooth potential flow patterns around the cylinder."
   ]
  },
  {
   "cell_type": "code",
   "execution_count": null,
   "metadata": {},
   "outputs": [],
   "source": [
    "# ============================================================================\n",
    "# CREATE POTENTIAL FLOW STREAMLINE VISUALIZATION\n",
    "# ============================================================================\n",
    "\n",
    "# Create streamline plot showing smooth potential flow patterns\n",
    "plt.figure(figsize=(12, 8))\n",
    "strm = plt.streamplot(X, Y, u, v, \n",
    "                     color=speed,           # Color streamlines by velocity magnitude\n",
    "                     cmap='viridis',        # Use viridis colormap\n",
    "                     density=1.5,           # Streamline density\n",
    "                     linewidth=1.2)         # Line thickness\n",
    "\n",
    "# Add colorbar for velocity magnitude\n",
    "cbar = plt.colorbar(strm.lines, label='Velocity Magnitude (m/s)')\n",
    "cbar.ax.tick_params(labelsize=10)\n",
    "\n",
    "# Draw cylinder outline\n",
    "poly_closed = np.vstack([poly, poly[0]])   # Close the polygon\n",
    "plt.fill(poly_closed[:,0], poly_closed[:,1], 'white', edgecolor='black', linewidth=2, zorder=10)\n",
    "\n",
    "# Format plot for clean presentation\n",
    "plt.axis('equal')      # Equal aspect ratio to preserve geometry\n",
    "plt.xlabel('X Position (m)', fontsize=12)\n",
    "plt.ylabel('Y Position (m)', fontsize=12)\n",
    "plt.title('Potential Flow Around Cylinder\\n(Smooth streamlines, no separation)', \n",
    "          fontsize=14, pad=20)\n",
    "plt.grid(True, alpha=0.3)\n",
    "plt.tight_layout()     # Optimize layout\n",
    "plt.show()\n",
    "\n",
    "print(\"\\nStreamline visualization complete!\")\n",
    "print(\"\\nKey characteristics of potential flow:\")\n",
    "print(\"• Smooth streamlines with no flow separation\")\n",
    "print(\"• Perfect fore-aft symmetry around the cylinder\")\n",
    "print(\"• No boundary layers (inviscid flow assumption)\")\n",
    "print(\"• Streamlines compress around cylinder, increasing velocity\")"
   ]
  },
  {
   "cell_type": "markdown",
   "metadata": {},
   "source": [
    "## Additional Analysis Options\n",
    "\n",
    "Explore different visualization options and analysis techniques."
   ]
  },
  {
   "cell_type": "code",
   "execution_count": null,
   "metadata": {},
   "outputs": [],
   "source": [
    "# Create velocity magnitude contour plot\n",
    "plt.figure(figsize=(12, 8))\n",
    "contour = plt.contourf(X, Y, speed, levels=20, cmap='plasma')\n",
    "plt.colorbar(contour, label='Velocity Magnitude (m/s)')\n",
    "\n",
    "# Draw cylinder outline\n",
    "plt.fill(poly_closed[:,0], poly_closed[:,1], 'white', edgecolor='black', linewidth=2)\n",
    "\n",
    "plt.axis('equal')\n",
    "plt.xlabel('X Position (m)', fontsize=12)\n",
    "plt.ylabel('Y Position (m)', fontsize=12)\n",
    "plt.title('Velocity Magnitude Contours', fontsize=14)\n",
    "plt.grid(True, alpha=0.3)\n",
    "plt.tight_layout()\n",
    "plt.show()"
   ]
  },
  {
   "cell_type": "code",
   "execution_count": null,
   "metadata": {},
   "outputs": [],
   "source": [
    "# Create pressure coefficient analysis (if pressure data is available)\n",
    "try:\n",
    "    # Extract pressure data if available\n",
    "    p = mesh.cell_data.get(\"p\")\n",
    "    if p is not None:\n",
    "        print(\"Pressure data found - creating pressure coefficient plot\")\n",
    "        \n",
    "        # Calculate pressure coefficient: Cp = (p - p_inf) / (0.5 * rho * U_inf^2)\n",
    "        # For potential flow: Cp = 1 - (U/U_inf)^2\n",
    "        U_inf = np.nanmean(speed[~np.isnan(speed)])  # Estimate freestream velocity\n",
    "        Cp_theoretical = 1 - (speed / U_inf)**2\n",
    "        \n",
    "        plt.figure(figsize=(12, 8))\n",
    "        cp_contour = plt.contourf(X, Y, Cp_theoretical, levels=20, cmap='RdBu_r', vmin=-3, vmax=1)\n",
    "        plt.colorbar(cp_contour, label='Pressure Coefficient Cp')\n",
    "        \n",
    "        # Draw cylinder outline\n",
    "        plt.fill(poly_closed[:,0], poly_closed[:,1], 'white', edgecolor='black', linewidth=2)\n",
    "        \n",
    "        plt.axis('equal')\n",
    "        plt.xlabel('X Position (m)', fontsize=12)\n",
    "        plt.ylabel('Y Position (m)', fontsize=12)\n",
    "        plt.title('Pressure Coefficient Distribution', fontsize=14)\n",
    "        plt.grid(True, alpha=0.3)\n",
    "        plt.tight_layout()\n",
    "        plt.show()\n",
    "    else:\n",
    "        print(\"No pressure data found in the mesh\")\nexcept Exception as e:\n",
    "    print(f\"Could not create pressure analysis: {e}\")"
   ]
  },
  {
   "cell_type": "markdown",
   "metadata": {},
   "source": [
    "## Export Results\n",
    "\n",
    "Save high-quality figures for reports or publications."
   ]
  },
  {
   "cell_type": "code",
   "execution_count": null,
   "metadata": {},
   "outputs": [],
   "source": [
    "# Export high-resolution streamline plot\n",
    "plt.figure(figsize=(12, 8), dpi=300)\n",
    "strm = plt.streamplot(X, Y, u, v, \n",
    "                     color=speed, cmap='viridis', density=1.5, linewidth=1.2)\n",
    "plt.colorbar(strm.lines, label='Velocity Magnitude (m/s)')\n",
    "plt.fill(poly_closed[:,0], poly_closed[:,1], 'white', edgecolor='black', linewidth=2)\n",
    "plt.axis('equal')\n",
    "plt.xlabel('X Position (m)', fontsize=12)\n",
    "plt.ylabel('Y Position (m)', fontsize=12)\n",
    "plt.title('Potential Flow Around Cylinder', fontsize=14, pad=20)\n",
    "plt.grid(True, alpha=0.3)\n",
    "plt.tight_layout()\n",
    "\n",
    "# Save the figure\n",
    "output_file = '../potential_flow_streamlines.png'\n",
    "plt.savefig(output_file, dpi=300, bbox_inches='tight', facecolor='white')\n",
    "print(f\"High-resolution plot saved to: {output_file}\")\n",
    "plt.show()"
   ]
  },
  {
   "cell_type": "markdown",
   "metadata": {},
   "source": [
    "## Summary\n",
    "\n",
    "This visualization notebook demonstrates the key characteristics of potential flow around a circular cylinder:\n",
    "\n",
    "1. **Smooth streamlines** - No flow separation or vorticity\n",
    "2. **Symmetrical flow** - Perfect fore-aft symmetry\n",
    "3. **No boundary layers** - Inviscid flow assumption allows slip at walls\n",
    "4. **Velocity acceleration** - Flow accelerates around the cylinder\n",
    "\n",
    "The potential flow solution provides valuable insight into ideal fluid behavior and serves as a baseline for more complex viscous flow analysis."
   ]
  }
 ],
 "metadata": {
  "kernelspec": {
   "display_name": "Python 3",
   "language": "python",
   "name": "python3"
  },
  "language_info": {
   "codemirror_mode": {
    "name": "ipython",
    "version": 3
   },
   "file_extension": ".py",
   "mimetype": "text/x-python",
   "name": "python",
   "nbconvert_exporter": "python",
   "pygments_lexer": "ipython3",
   "version": "3.8.5"
  }
 },
 "nbformat": 4,
 "nbformat_minor": 4
}