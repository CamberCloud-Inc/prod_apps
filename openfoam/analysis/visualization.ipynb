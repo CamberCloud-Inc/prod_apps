{
 "cells": [
  {
   "cell_type": "markdown",
   "metadata": {},
   "source": [
    "# OpenFOAM Potential Flow Visualization\n",
    "\n",
    "PyVista-based visualization of OpenFOAM cylinder flow simulation results using real VTK data."
   ]
  },
  {
   "cell_type": "code",
   "execution_count": null,
   "metadata": {},
   "outputs": [],
   "source": [
    "# Import required libraries for data processing and visualization\n",
    "import numpy as np\n",
    "import matplotlib.pyplot as plt\n",
    "import pyvista as pv\n",
    "from scipy.interpolate import griddata\n",
    "from matplotlib.path import Path\n",
    "from scipy.spatial import ConvexHull\n",
    "import sys\n",
    "import os\n",
    "\n",
    "# Load simulation parameters\n",
    "try:\n",
    "    sys.path.append('../output')\n",
    "    from simulation_parameters import REYNOLDS_NUMBER, INLET_VELOCITY, CYLINDER_RADIUS, VISCOSITY\n",
    "    print(f\"Loaded simulation parameters:\")\n",
    "    print(f\"Reynolds Number: {REYNOLDS_NUMBER}\")\n",
    "    print(f\"Inlet Velocity: {INLET_VELOCITY} m/s\")\n",
    "    print(f\"Cylinder Radius: {CYLINDER_RADIUS} m\")\n",
    "    print(f\"Viscosity: {VISCOSITY} m²/s\")\n",
    "except ImportError:\n",
    "    print(\"Warning: Could not load simulation parameters, using defaults\")\n",
    "    REYNOLDS_NUMBER = 100\n",
    "    INLET_VELOCITY = 1.0\n",
    "    CYLINDER_RADIUS = 0.5\n",
    "    VISCOSITY = 0.01"
   ]
  },
  {
   "cell_type": "code",
   "execution_count": null,
   "metadata": {},
   "outputs": [],
   "source": [
    "# ============================================================================\n",
    "# LOAD AND PROCESS VTK DATA FROM POTENTIALFOAM SIMULATION\n",
    "# ============================================================================\n",
    "\n",
    "# Load the potential flow solution and cylinder boundary\n",
    "from pathlib import Path as FS        # avoid the name clash with matplotlib.Path\n",
    "run = next(d for d in FS('../VTK').iterdir() if d.is_dir())  # first sub-folder\n",
    "mesh     = pv.read(run / 'internal.vtu')\n",
    "cylinder = pv.read(run / 'boundary' / 'cylinder.vtp')\n",
    "\n",
    "# Extract cell centers and velocity data from the potential flow solution\n",
    "cells = mesh.cell_centers()\n",
    "centres = cells.points[:, :2]          # 2D cell-center coordinates (N×2)\n",
    "U = mesh.cell_data[\"U\"][:, :2]         # Velocity components from potential flow [u, v] (N×2)"
   ]
  },
  {
   "cell_type": "code",
   "execution_count": null,
   "metadata": {},
   "outputs": [],
   "source": [
    "# ============================================================================\n",
    "# CREATE CYLINDER BOUNDARY POLYGON FOR MASKING\n",
    "# ============================================================================\n",
    "\n",
    "# Extract 2D cylinder boundary points and create convex hull\n",
    "c2d = cylinder.points[:, :2]\n",
    "hull = ConvexHull(c2d)\n",
    "poly = c2d[hull.vertices]              # Ordered boundary vertices\n",
    "poly_path = Path(poly)                 # Create matplotlib Path for inside/outside tests\n",
    "\n",
    "# Remove cell centers that are inside the cylinder body\n",
    "keep = ~poly_path.contains_points(centres)\n",
    "centres, U = centres[keep], U[keep]"
   ]
  },
  {
   "cell_type": "code",
   "execution_count": null,
   "metadata": {},
   "outputs": [],
   "source": [
    "# ============================================================================\n",
    "# INTERPOLATE TO REGULAR GRID FOR STREAMLINE VISUALIZATION\n",
    "# ============================================================================\n",
    "\n",
    "# Create regular rectangular grid for streamline plotting\n",
    "nx = ny = 300  # Grid resolution\n",
    "xi = np.linspace(centres[:,0].min(), centres[:,0].max(), nx)\n",
    "yi = np.linspace(centres[:,1].min(), centres[:,1].max(), ny)\n",
    "X, Y = np.meshgrid(xi, yi)\n",
    "\n",
    "# Interpolate velocity components from unstructured to structured grid\n",
    "u = griddata(centres, U[:,0], (X, Y), method='linear')  # x-velocity component\n",
    "v = griddata(centres, U[:,1], (X, Y), method='linear')  # y-velocity component\n",
    "\n",
    "# Apply cylinder mask to grid (remove points inside cylinder)\n",
    "inside = poly_path.contains_points(np.c_[X.ravel(), Y.ravel()]).reshape(X.shape)\n",
    "u[inside] = v[inside] = np.nan  # Set interior points to NaN\n",
    "speed = np.hypot(u, v)              # Calculate velocity magnitude"
   ]
  },
  {
   "cell_type": "code",
   "execution_count": null,
   "metadata": {},
   "outputs": [],
   "source": [
    "# ============================================================================\n",
    "# CREATE POTENTIAL FLOW STREAMLINE VISUALIZATION\n",
    "# ============================================================================\n",
    "\n",
    "# Create streamline plot showing smooth potential flow patterns\n",
    "plt.figure(figsize=(6, 6))\n",
    "plt.streamplot(X, Y, u, v, \n",
    "               color=speed,           # Color streamlines by velocity magnitude\n",
    "               cmap='viridis',        # Use viridis colormap\n",
    "               density=1.5,           # Streamline density\n",
    "               linewidth=1)           # Line thickness\n",
    "\n",
    "# Draw cylinder outline\n",
    "poly_closed = np.vstack([poly, poly[0]])   # Close the polygon\n",
    "plt.plot(poly_closed[:,0], poly_closed[:,1], 'k', lw=1.5)\n",
    "\n",
    "# Format plot for clean presentation\n",
    "plt.axis('equal')      # Equal aspect ratio to preserve geometry\n",
    "plt.axis('off')        # Hide axes for cleaner scientific visualization\n",
    "plt.tight_layout()     # Optimize layout\n",
    "plt.title(f'Potential Flow Around Cylinder (Re = {REYNOLDS_NUMBER})\\nSmooth streamlines, no separation', \n",
    "          fontsize=12, pad=20)\n",
    "plt.show()"
   ]
  }
 ],
 "metadata": {
  "kernelspec": {
   "display_name": "Python 3",
   "language": "python",
   "name": "python3"
  },
  "language_info": {
   "codemirror_mode": {
    "name": "ipython",
    "version": 3
   },
   "file_extension": ".py",
   "mimetype": "text/x-python",
   "name": "python",
   "nbconvert_exporter": "python",
   "pygments_lexer": "ipython3",
   "version": "3.8.5"
  }
 },
 "nbformat": 4,
 "nbformat_minor": 4
}